{
 "cells": [
  {
   "cell_type": "markdown",
   "id": "d8b1e7f4",
   "metadata": {},
   "source": [
    "# Import modules"
   ]
  },
  {
   "cell_type": "code",
   "execution_count": 1,
   "id": "724116ee",
   "metadata": {},
   "outputs": [],
   "source": [
    "import numpy as np\n",
    "np.set_printoptions(threshold=np.inf)\n",
    "import matplotlib.pyplot as plt\n",
    "import pandas as pd\n",
    "from datetime import datetime\n",
    "import time\n",
    "from datetime import timedelta\n",
    "from IPython.display import display, Markdown"
   ]
  },
  {
   "cell_type": "markdown",
   "id": "9a015a25",
   "metadata": {},
   "source": [
    "# Sort scattered photons from ASCII version of phase-space file"
   ]
  },
  {
   "cell_type": "code",
   "execution_count": 3,
   "id": "15ea3492",
   "metadata": {},
   "outputs": [
    {
     "name": "stdout",
     "output_type": "stream",
     "text": [
      "Processing time: 2143.857512950897 s\n"
     ]
    }
   ],
   "source": [
    "start_time = time.time()\n",
    "\n",
    "E_max = 0.3\n",
    "E_min = E_max/(1+2*E_max/0.511)\n",
    "\n",
    "E_scat = []         # Energy \n",
    "x_scat = []         # x-coordinate\n",
    "y_scat = []         # y-coordinate\n",
    "z_scat = []         # z-coordinate\n",
    "xcos_scat = []      # direction cosine wrt x-axis\n",
    "ycos_scat = []      # direction cosine wrt y-axis\n",
    "\n",
    "with open(r'D:/IAEAphsp-to-ASCII/iaea_phsp/iaea2ascii.txt','r') as f:\n",
    "    for line in f:\n",
    "        if float(line.split(None, 10)[8]) >= E_min and float(line.split(None, 10)[8]) < E_max:\n",
    "            E_scat.append(line.split(None, 10)[8])\n",
    "            x_scat.append(line.split(None, 10)[2])\n",
    "            y_scat.append(line.split(None, 10)[3])\n",
    "            z_scat.append(line.split(None, 10)[4])\n",
    "            xcos_scat.append(line.split(None, 10)[5])\n",
    "            ycos_scat.append(line.split(None, 10)[6])\n",
    "            \n",
    "E_scat_array = np.array(E_scat,dtype=float)\n",
    "x_scat_array = np.array(x_scat,dtype=float)\n",
    "y_scat_array = np.array(y_scat,dtype=float)\n",
    "z_scat_array = np.array(z_scat,dtype=float)\n",
    "xcos_scat_array = np.array(xcos_scat,dtype=float)\n",
    "ycos_scat_array = np.array(ycos_scat,dtype=float)\n",
    "\n",
    "# print(len(E_scat_array))\n",
    "# print(len(x_scat_array))\n",
    "# print(len(y_scat_array))\n",
    "# print(len(z_scat_array))\n",
    "# print(len(xcos_scat_array))\n",
    "# print(len(ycos_scat_array))\n",
    "\n",
    "end_time = time.time()\n",
    "print('Processing time: {}'.format(end_time - start_time), 's')"
   ]
  },
  {
   "cell_type": "code",
   "execution_count": 229,
   "id": "fd4c34cd",
   "metadata": {},
   "outputs": [],
   "source": [
    "import csv\n",
    "\n",
    "def row_count(input):\n",
    "    with open(input) as f:\n",
    "        for i, l in enumerate(f):\n",
    "            pass\n",
    "    return i\n",
    "\n",
    "input = 'D:/IAEAphsp-to-ASCII/iaea_phsp/iaea2ascii.txt'\n",
    "asd = row_count(input)"
   ]
  },
  {
   "cell_type": "code",
   "execution_count": 232,
   "id": "f4951769",
   "metadata": {},
   "outputs": [
    {
     "name": "stdout",
     "output_type": "stream",
     "text": [
      "494290439\n"
     ]
    }
   ],
   "source": [
    "print(asd)"
   ]
  },
  {
   "cell_type": "code",
   "execution_count": 233,
   "id": "40cd8d0b",
   "metadata": {},
   "outputs": [
    {
     "data": {
      "text/plain": [
       "306096"
      ]
     },
     "execution_count": 233,
     "metadata": {},
     "output_type": "execute_result"
    }
   ],
   "source": [
    "len(E_scat)"
   ]
  },
  {
   "cell_type": "code",
   "execution_count": 19,
   "id": "ac7d10bb",
   "metadata": {},
   "outputs": [
    {
     "data": {
      "text/plain": [
       "323759"
      ]
     },
     "execution_count": 19,
     "metadata": {},
     "output_type": "execute_result"
    }
   ],
   "source": [
    "len(E_scat)"
   ]
  },
  {
   "cell_type": "markdown",
   "id": "99053f14",
   "metadata": {},
   "source": [
    "# Calculate central angle of scattered photons"
   ]
  },
  {
   "cell_type": "code",
   "execution_count": 4,
   "id": "8d1799d5",
   "metadata": {},
   "outputs": [
    {
     "name": "stdout",
     "output_type": "stream",
     "text": [
      "Processing time: 2.320521831512451 s\n"
     ]
    }
   ],
   "source": [
    "start_time = time.time()\n",
    "\n",
    "def theta(index):\n",
    "    if x_scat_array[index] > 0 and y_scat_array[index] >= 0:\n",
    "        return np.arctan(y_scat_array[index]/x_scat_array[index])\n",
    "    if x_scat_array[index] > 0 and y_scat_array[index] <= 0:\n",
    "        return np.arctan(y_scat_array[index]/x_scat_array[index]) + 2*np.pi\n",
    "    if x_scat_array[index] < 0 and y_scat_array[index] >= 0:\n",
    "        return (np.arctan(y_scat_array[index]/x_scat_array[index]) + np.pi)\n",
    "    if x_scat_array[index] < 0 and y_scat_array[index] < 0:\n",
    "        return (np.arctan(y_scat_array[index]/x_scat_array[index]) + np.pi)\n",
    "    if x_scat_array[index] == 0 and y_scat_array[index] > 0:\n",
    "        return np.pi/2\n",
    "    if x_scat_array[index] == 0 and y_scat_array[index] < 0:\n",
    "        return -np.pi/2\n",
    "\n",
    "theta_scat_array = []\n",
    "for i in range(len(x_scat_array)):\n",
    "    theta_scat_array.append(theta(i))\n",
    "\n",
    "# print(len(theta_scat_array))\n",
    "\n",
    "end_time = time.time()\n",
    "print('Processing time: {}'.format(end_time - start_time), 's')"
   ]
  },
  {
   "cell_type": "markdown",
   "id": "175b45fc",
   "metadata": {},
   "source": [
    "# Calculate polar angle of scattered photon's velocity w/ respect to negative y-axis"
   ]
  },
  {
   "cell_type": "code",
   "execution_count": 5,
   "id": "0ae14d7f",
   "metadata": {},
   "outputs": [
    {
     "name": "stdout",
     "output_type": "stream",
     "text": [
      "Processing time: 1.6881916522979736 s\n"
     ]
    }
   ],
   "source": [
    "start_time = time.time()\n",
    "\n",
    "def theta_dir(index):\n",
    "    if xcos_scat_array[index] >= 0:\n",
    "        return np.pi - np.arccos(ycos_scat_array[index])\n",
    "    if xcos_scat_array[index] < 0:\n",
    "        return np.pi + np.arccos(ycos_scat_array[index])\n",
    "\n",
    "theta_dir_array = []\n",
    "for i in range(len(ycos_scat_array)):\n",
    "    theta_dir_array.append(theta_dir(i))\n",
    "\n",
    "# print(len(theta_dir_array))\n",
    "\n",
    "end_time = time.time()\n",
    "print('Processing time: {}'.format(end_time - start_time), 's')"
   ]
  },
  {
   "cell_type": "markdown",
   "id": "f7219803",
   "metadata": {},
   "source": [
    "# Write (E,x,y,z,theta,theta_dir) of scattered photons to separate text file"
   ]
  },
  {
   "cell_type": "code",
   "execution_count": 6,
   "id": "86309d4e",
   "metadata": {},
   "outputs": [
    {
     "name": "stdout",
     "output_type": "stream",
     "text": [
      "Processing time: 3.432692766189575 s\n"
     ]
    }
   ],
   "source": [
    "start_time = time.time()\n",
    "\n",
    "with open(r'C:/Users/Renniel/CCST_scat_kn_300.txt', 'a') as f:\n",
    "    for i in range(len(E_scat_array)):\n",
    "        f.write(\"%s,%s,%s,%s,%s,%s \\n\"%(E_scat_array[i],x_scat_array[i],y_scat_array[i],z_scat_array[i],theta_scat_array[i],theta_dir_array[i]))\n",
    "        \n",
    "end_time = time.time()\n",
    "print('Processing time: {}'.format(end_time - start_time), 's')"
   ]
  },
  {
   "cell_type": "markdown",
   "id": "a20affe6",
   "metadata": {},
   "source": [
    "# ---------------------------------------------------------------------------------------------------------"
   ]
  },
  {
   "cell_type": "markdown",
   "id": "3c5ac1c9",
   "metadata": {},
   "source": [
    "# Load scattered photons file (E,x,y,z,theta,theta_dir)"
   ]
  },
  {
   "cell_type": "code",
   "execution_count": 11,
   "id": "42cdfa49",
   "metadata": {},
   "outputs": [
    {
     "name": "stdout",
     "output_type": "stream",
     "text": [
      "Processing time: 0.8155348300933838 s\n"
     ]
    }
   ],
   "source": [
    "start_time = time.time()\n",
    "\n",
    "df = pd.read_csv('C:/Users/Renniel/CCST_scat_kn_300.txt',header=None)\n",
    "\n",
    "E_array = np.asarray(df.iloc[:,0],dtype=float)\n",
    "x_array = np.array(df.iloc[:,1],dtype=float)\n",
    "y_array = np.array(df.iloc[:,2],dtype=float)\n",
    "z_array = np.array(df.iloc[:,3],dtype=float)\n",
    "theta_array = np.array(df.iloc[:,4],dtype=float)\n",
    "thetadir_array = np.array(df.iloc[:,5],dtype=float)\n",
    "\n",
    "E_scat_rnd = np.round(np.array(E_array, dtype = float), 4)\n",
    "\n",
    "end_time = time.time()\n",
    "print('Processing time: {}'.format(end_time - start_time), 's')"
   ]
  },
  {
   "cell_type": "code",
   "execution_count": 95,
   "id": "ce6de243",
   "metadata": {},
   "outputs": [
    {
     "data": {
      "text/plain": [
       "371703"
      ]
     },
     "execution_count": 95,
     "metadata": {},
     "output_type": "execute_result"
    }
   ],
   "source": [
    "len(E_array)"
   ]
  },
  {
   "cell_type": "markdown",
   "id": "5116cfae",
   "metadata": {},
   "source": [
    "# Sort per detector"
   ]
  },
  {
   "cell_type": "code",
   "execution_count": 12,
   "id": "a92cc2c3",
   "metadata": {},
   "outputs": [
    {
     "name": "stdout",
     "output_type": "stream",
     "text": [
      "Processing time: 2149.9313271045685 s\n"
     ]
    }
   ],
   "source": [
    "start_time = time.time()\n",
    "\n",
    "K = 3725                       # no. of detectors\n",
    "r = 47.45                      # radius of scatter ring detector\n",
    "angle_int = (2*np.pi)/(K+1)    # angle covered by a detector element\n",
    "\n",
    "scatter_det_E = [[] for k in range(K)]\n",
    "scatter_det_theta = [[] for k in range(K)]\n",
    "for k in range(K):\n",
    "    for l in range(len(E_scat_rnd)):\n",
    "        if theta_array[l] >= (angle_int/2) + k*angle_int and theta_array[l] <= (angle_int/2) + (k+1)*angle_int:\n",
    "            scatter_det_E[k].append(E_scat_rnd[l])\n",
    "            scatter_det_theta[k].append(theta_array[l]*180/np.pi)   # in degrees\n",
    "            \n",
    "end_time = time.time()\n",
    "print('Processing time: {}'.format(end_time - start_time), 's')"
   ]
  },
  {
   "cell_type": "code",
   "execution_count": 209,
   "id": "8e6ec2b6",
   "metadata": {},
   "outputs": [
    {
     "data": {
      "text/plain": [
       "529"
      ]
     },
     "execution_count": 209,
     "metadata": {},
     "output_type": "execute_result"
    }
   ],
   "source": [
    "len(scatter_det_E[1])"
   ]
  },
  {
   "cell_type": "markdown",
   "id": "aedd6975",
   "metadata": {},
   "source": [
    "# Sort per detector and scattering circle ($C_1$ or $C_2$)"
   ]
  },
  {
   "cell_type": "code",
   "execution_count": 13,
   "id": "ab031e98",
   "metadata": {},
   "outputs": [
    {
     "name": "stdout",
     "output_type": "stream",
     "text": [
      "Processing time: 1748.640840768814 s\n"
     ]
    }
   ],
   "source": [
    "start_time = time.time()\n",
    "\n",
    "K = 3725                       # no. of detectors\n",
    "r = 47.45                      # radius of scatter ring detector\n",
    "angle_int = (2*np.pi)/(K+1)    # angle covered by a detector element\n",
    "\n",
    "scatter_det_E_c1 = [[] for k in range(K)]\n",
    "scatter_det_E_c2 = [[] for k in range(K)]\n",
    "\n",
    "for k in range(K//2+1):\n",
    "    for l in range(len(E_scat_rnd)):\n",
    "        if theta_array[l] >= (angle_int/2) + k*angle_int and theta_array[l] <= (angle_int/2) + (k+1)*angle_int:\n",
    "            if thetadir_array[l] < np.pi*(1 + (k+1)/(K+1)):\n",
    "                scatter_det_E_c1[k].append(E_scat_rnd[l])\n",
    "            if thetadir_array[l] > np.pi*(1 + (k+1)/(K+1)):\n",
    "                scatter_det_E_c2[k].append(E_scat_rnd[l])\n",
    "                \n",
    "for k in range(K//2+1, K):\n",
    "    for l in range(len(E_scat_rnd)):\n",
    "        if theta_array[l] >= (angle_int/2) + k*angle_int and theta_array[l] <= (angle_int/2) + (k+1)*angle_int:\n",
    "            if thetadir_array[l] < np.pi*(1 + (k+1)/(K+1)) and thetadir_array[l] > np.pi:\n",
    "                scatter_det_E_c1[k].append(E_scat_rnd[l])\n",
    "            if thetadir_array[l] < np.pi*(1 + (k+1)/(K+1)) and thetadir_array[l] < np.pi:\n",
    "                scatter_det_E_c2[k].append(E_scat_rnd[l])\n",
    "            if thetadir_array[l] > np.pi*(1 + (k+1)/(K+1)):\n",
    "                scatter_det_E_c2[k].append(E_scat_rnd[l])\n",
    "\n",
    "end_time = time.time()\n",
    "print('Processing time: {}'.format(end_time - start_time), 's')"
   ]
  },
  {
   "cell_type": "markdown",
   "id": "279298fe",
   "metadata": {},
   "source": [
    "# Count same photon energies per detector"
   ]
  },
  {
   "cell_type": "code",
   "execution_count": 73,
   "id": "9f868f05",
   "metadata": {},
   "outputs": [
    {
     "name": "stdout",
     "output_type": "stream",
     "text": [
      "Processing time: 0.0 s\n"
     ]
    }
   ],
   "source": [
    "start_time = time.time()\n",
    "\n",
    "def pcount(sc_det_E,energy_step):\n",
    "    \"\"\"\n",
    "    sc_det_E : energy of photons per detector\n",
    "    energy_step : interval or energy resolution, default (1 keV)\n",
    "    \"\"\"\n",
    "    step = 1000/energy_step\n",
    "    dec = np.floor(np.log10(np.abs(step))).astype(int)\n",
    "    low = int(np.round(E_min,dec)*step)\n",
    "    high = int(E_max*step)\n",
    "    sc_det_E_f = [[] for k in range(K)]\n",
    "    for p in range(len(sc_det_E)):\n",
    "        for q in range(low,high):\n",
    "            sc_det_E_f[p].append(sc_det_E[p].count(q/step))\n",
    "    return sc_det_E_f\n",
    "        \n",
    "end_time = time.time()\n",
    "print('Processing time: {}'.format(end_time - start_time), 's')"
   ]
  },
  {
   "cell_type": "code",
   "execution_count": 33,
   "id": "a04db521",
   "metadata": {},
   "outputs": [
    {
     "data": {
      "text/plain": [
       "138"
      ]
     },
     "execution_count": 33,
     "metadata": {},
     "output_type": "execute_result"
    }
   ],
   "source": [
    "int(np.round(E_min,3)*1000)"
   ]
  },
  {
   "cell_type": "code",
   "execution_count": 97,
   "id": "1547fd1a",
   "metadata": {},
   "outputs": [
    {
     "name": "stdout",
     "output_type": "stream",
     "text": [
      "4\n"
     ]
    }
   ],
   "source": [
    "dec=1000/0.1\n",
    "print(np.floor(np.log10(np.abs(dec))).astype(int))"
   ]
  },
  {
   "cell_type": "code",
   "execution_count": 54,
   "id": "f39d0a86",
   "metadata": {},
   "outputs": [
    {
     "data": {
      "text/plain": [
       "0.001"
      ]
     },
     "execution_count": 54,
     "metadata": {},
     "output_type": "execute_result"
    }
   ],
   "source": [
    "1/1000.0"
   ]
  },
  {
   "cell_type": "code",
   "execution_count": 36,
   "id": "2f289292",
   "metadata": {},
   "outputs": [
    {
     "data": {
      "text/plain": [
       "300"
      ]
     },
     "execution_count": 36,
     "metadata": {},
     "output_type": "execute_result"
    }
   ],
   "source": [
    "int(E_max*1000)"
   ]
  },
  {
   "cell_type": "markdown",
   "id": "4f74a8e3",
   "metadata": {},
   "source": [
    "# Count no. of photons per energy per detector"
   ]
  },
  {
   "cell_type": "code",
   "execution_count": 79,
   "id": "056dd3ae",
   "metadata": {},
   "outputs": [
    {
     "name": "stdout",
     "output_type": "stream",
     "text": [
      "Processing time: 23.780762910842896 s\n"
     ]
    }
   ],
   "source": [
    "start_time = time.time()\n",
    "\n",
    "# Original data\n",
    "scatter_det_E_f = pcount(scatter_det_E,1)\n",
    "\n",
    "# 1st Circular Arc\n",
    "scatter_det_E_f_c1 = pcount(scatter_det_E_c1,1)\n",
    "\n",
    "# 2nd Circular Arc\n",
    "scatter_det_E_f_c2 = pcount(scatter_det_E_c2,1)\n",
    "        \n",
    "end_time = time.time()\n",
    "print('Processing time: {}'.format(end_time - start_time), 's')"
   ]
  },
  {
   "cell_type": "code",
   "execution_count": 90,
   "id": "4212ad25",
   "metadata": {
    "scrolled": true
   },
   "outputs": [
    {
     "data": {
      "text/html": [
       "<div>\n",
       "<style scoped>\n",
       "    .dataframe tbody tr th:only-of-type {\n",
       "        vertical-align: middle;\n",
       "    }\n",
       "\n",
       "    .dataframe tbody tr th {\n",
       "        vertical-align: top;\n",
       "    }\n",
       "\n",
       "    .dataframe thead th {\n",
       "        text-align: right;\n",
       "    }\n",
       "</style>\n",
       "<table border=\"1\" class=\"dataframe\">\n",
       "  <thead>\n",
       "    <tr style=\"text-align: right;\">\n",
       "      <th></th>\n",
       "      <th>0</th>\n",
       "      <th>1</th>\n",
       "      <th>2</th>\n",
       "      <th>3</th>\n",
       "      <th>4</th>\n",
       "      <th>5</th>\n",
       "      <th>6</th>\n",
       "      <th>7</th>\n",
       "      <th>8</th>\n",
       "      <th>9</th>\n",
       "      <th>...</th>\n",
       "      <th>152</th>\n",
       "      <th>153</th>\n",
       "      <th>154</th>\n",
       "      <th>155</th>\n",
       "      <th>156</th>\n",
       "      <th>157</th>\n",
       "      <th>158</th>\n",
       "      <th>159</th>\n",
       "      <th>160</th>\n",
       "      <th>161</th>\n",
       "    </tr>\n",
       "  </thead>\n",
       "  <tbody>\n",
       "    <tr>\n",
       "      <th>0</th>\n",
       "      <td>35</td>\n",
       "      <td>10</td>\n",
       "      <td>4</td>\n",
       "      <td>8</td>\n",
       "      <td>2</td>\n",
       "      <td>8</td>\n",
       "      <td>1</td>\n",
       "      <td>0</td>\n",
       "      <td>2</td>\n",
       "      <td>1</td>\n",
       "      <td>...</td>\n",
       "      <td>0</td>\n",
       "      <td>0</td>\n",
       "      <td>0</td>\n",
       "      <td>0</td>\n",
       "      <td>0</td>\n",
       "      <td>0</td>\n",
       "      <td>0</td>\n",
       "      <td>0</td>\n",
       "      <td>0</td>\n",
       "      <td>0</td>\n",
       "    </tr>\n",
       "    <tr>\n",
       "      <th>1</th>\n",
       "      <td>15</td>\n",
       "      <td>3</td>\n",
       "      <td>1</td>\n",
       "      <td>1</td>\n",
       "      <td>1</td>\n",
       "      <td>1</td>\n",
       "      <td>5</td>\n",
       "      <td>2</td>\n",
       "      <td>4</td>\n",
       "      <td>1</td>\n",
       "      <td>...</td>\n",
       "      <td>0</td>\n",
       "      <td>0</td>\n",
       "      <td>0</td>\n",
       "      <td>0</td>\n",
       "      <td>0</td>\n",
       "      <td>0</td>\n",
       "      <td>0</td>\n",
       "      <td>0</td>\n",
       "      <td>0</td>\n",
       "      <td>0</td>\n",
       "    </tr>\n",
       "    <tr>\n",
       "      <th>2</th>\n",
       "      <td>12</td>\n",
       "      <td>7</td>\n",
       "      <td>1</td>\n",
       "      <td>1</td>\n",
       "      <td>1</td>\n",
       "      <td>0</td>\n",
       "      <td>1</td>\n",
       "      <td>1</td>\n",
       "      <td>1</td>\n",
       "      <td>0</td>\n",
       "      <td>...</td>\n",
       "      <td>0</td>\n",
       "      <td>0</td>\n",
       "      <td>0</td>\n",
       "      <td>0</td>\n",
       "      <td>0</td>\n",
       "      <td>0</td>\n",
       "      <td>0</td>\n",
       "      <td>0</td>\n",
       "      <td>0</td>\n",
       "      <td>0</td>\n",
       "    </tr>\n",
       "    <tr>\n",
       "      <th>3</th>\n",
       "      <td>12</td>\n",
       "      <td>5</td>\n",
       "      <td>0</td>\n",
       "      <td>0</td>\n",
       "      <td>1</td>\n",
       "      <td>2</td>\n",
       "      <td>0</td>\n",
       "      <td>0</td>\n",
       "      <td>0</td>\n",
       "      <td>0</td>\n",
       "      <td>...</td>\n",
       "      <td>0</td>\n",
       "      <td>0</td>\n",
       "      <td>0</td>\n",
       "      <td>0</td>\n",
       "      <td>0</td>\n",
       "      <td>0</td>\n",
       "      <td>0</td>\n",
       "      <td>0</td>\n",
       "      <td>0</td>\n",
       "      <td>0</td>\n",
       "    </tr>\n",
       "    <tr>\n",
       "      <th>4</th>\n",
       "      <td>9</td>\n",
       "      <td>2</td>\n",
       "      <td>0</td>\n",
       "      <td>0</td>\n",
       "      <td>0</td>\n",
       "      <td>0</td>\n",
       "      <td>0</td>\n",
       "      <td>0</td>\n",
       "      <td>0</td>\n",
       "      <td>1</td>\n",
       "      <td>...</td>\n",
       "      <td>0</td>\n",
       "      <td>0</td>\n",
       "      <td>0</td>\n",
       "      <td>0</td>\n",
       "      <td>0</td>\n",
       "      <td>0</td>\n",
       "      <td>0</td>\n",
       "      <td>0</td>\n",
       "      <td>0</td>\n",
       "      <td>0</td>\n",
       "    </tr>\n",
       "    <tr>\n",
       "      <th>...</th>\n",
       "      <td>...</td>\n",
       "      <td>...</td>\n",
       "      <td>...</td>\n",
       "      <td>...</td>\n",
       "      <td>...</td>\n",
       "      <td>...</td>\n",
       "      <td>...</td>\n",
       "      <td>...</td>\n",
       "      <td>...</td>\n",
       "      <td>...</td>\n",
       "      <td>...</td>\n",
       "      <td>...</td>\n",
       "      <td>...</td>\n",
       "      <td>...</td>\n",
       "      <td>...</td>\n",
       "      <td>...</td>\n",
       "      <td>...</td>\n",
       "      <td>...</td>\n",
       "      <td>...</td>\n",
       "      <td>...</td>\n",
       "      <td>...</td>\n",
       "    </tr>\n",
       "    <tr>\n",
       "      <th>3720</th>\n",
       "      <td>21</td>\n",
       "      <td>2</td>\n",
       "      <td>2</td>\n",
       "      <td>1</td>\n",
       "      <td>2</td>\n",
       "      <td>0</td>\n",
       "      <td>0</td>\n",
       "      <td>0</td>\n",
       "      <td>0</td>\n",
       "      <td>1</td>\n",
       "      <td>...</td>\n",
       "      <td>0</td>\n",
       "      <td>0</td>\n",
       "      <td>0</td>\n",
       "      <td>0</td>\n",
       "      <td>0</td>\n",
       "      <td>0</td>\n",
       "      <td>0</td>\n",
       "      <td>0</td>\n",
       "      <td>0</td>\n",
       "      <td>0</td>\n",
       "    </tr>\n",
       "    <tr>\n",
       "      <th>3721</th>\n",
       "      <td>17</td>\n",
       "      <td>3</td>\n",
       "      <td>2</td>\n",
       "      <td>1</td>\n",
       "      <td>1</td>\n",
       "      <td>0</td>\n",
       "      <td>1</td>\n",
       "      <td>0</td>\n",
       "      <td>0</td>\n",
       "      <td>1</td>\n",
       "      <td>...</td>\n",
       "      <td>0</td>\n",
       "      <td>0</td>\n",
       "      <td>0</td>\n",
       "      <td>0</td>\n",
       "      <td>0</td>\n",
       "      <td>0</td>\n",
       "      <td>0</td>\n",
       "      <td>0</td>\n",
       "      <td>0</td>\n",
       "      <td>0</td>\n",
       "    </tr>\n",
       "    <tr>\n",
       "      <th>3722</th>\n",
       "      <td>9</td>\n",
       "      <td>4</td>\n",
       "      <td>2</td>\n",
       "      <td>0</td>\n",
       "      <td>0</td>\n",
       "      <td>0</td>\n",
       "      <td>1</td>\n",
       "      <td>2</td>\n",
       "      <td>1</td>\n",
       "      <td>1</td>\n",
       "      <td>...</td>\n",
       "      <td>0</td>\n",
       "      <td>0</td>\n",
       "      <td>0</td>\n",
       "      <td>0</td>\n",
       "      <td>0</td>\n",
       "      <td>0</td>\n",
       "      <td>0</td>\n",
       "      <td>0</td>\n",
       "      <td>0</td>\n",
       "      <td>0</td>\n",
       "    </tr>\n",
       "    <tr>\n",
       "      <th>3723</th>\n",
       "      <td>17</td>\n",
       "      <td>6</td>\n",
       "      <td>2</td>\n",
       "      <td>1</td>\n",
       "      <td>1</td>\n",
       "      <td>2</td>\n",
       "      <td>1</td>\n",
       "      <td>0</td>\n",
       "      <td>2</td>\n",
       "      <td>1</td>\n",
       "      <td>...</td>\n",
       "      <td>0</td>\n",
       "      <td>0</td>\n",
       "      <td>0</td>\n",
       "      <td>0</td>\n",
       "      <td>0</td>\n",
       "      <td>0</td>\n",
       "      <td>0</td>\n",
       "      <td>0</td>\n",
       "      <td>0</td>\n",
       "      <td>0</td>\n",
       "    </tr>\n",
       "    <tr>\n",
       "      <th>3724</th>\n",
       "      <td>32</td>\n",
       "      <td>5</td>\n",
       "      <td>7</td>\n",
       "      <td>3</td>\n",
       "      <td>2</td>\n",
       "      <td>2</td>\n",
       "      <td>1</td>\n",
       "      <td>0</td>\n",
       "      <td>1</td>\n",
       "      <td>2</td>\n",
       "      <td>...</td>\n",
       "      <td>0</td>\n",
       "      <td>0</td>\n",
       "      <td>0</td>\n",
       "      <td>0</td>\n",
       "      <td>0</td>\n",
       "      <td>0</td>\n",
       "      <td>0</td>\n",
       "      <td>0</td>\n",
       "      <td>0</td>\n",
       "      <td>0</td>\n",
       "    </tr>\n",
       "  </tbody>\n",
       "</table>\n",
       "<p>3725 rows × 162 columns</p>\n",
       "</div>"
      ],
      "text/plain": [
       "      0    1    2    3    4    5    6    7    8    9    ...  152  153  154  \\\n",
       "0      35   10    4    8    2    8    1    0    2    1  ...    0    0    0   \n",
       "1      15    3    1    1    1    1    5    2    4    1  ...    0    0    0   \n",
       "2      12    7    1    1    1    0    1    1    1    0  ...    0    0    0   \n",
       "3      12    5    0    0    1    2    0    0    0    0  ...    0    0    0   \n",
       "4       9    2    0    0    0    0    0    0    0    1  ...    0    0    0   \n",
       "...   ...  ...  ...  ...  ...  ...  ...  ...  ...  ...  ...  ...  ...  ...   \n",
       "3720   21    2    2    1    2    0    0    0    0    1  ...    0    0    0   \n",
       "3721   17    3    2    1    1    0    1    0    0    1  ...    0    0    0   \n",
       "3722    9    4    2    0    0    0    1    2    1    1  ...    0    0    0   \n",
       "3723   17    6    2    1    1    2    1    0    2    1  ...    0    0    0   \n",
       "3724   32    5    7    3    2    2    1    0    1    2  ...    0    0    0   \n",
       "\n",
       "      155  156  157  158  159  160  161  \n",
       "0       0    0    0    0    0    0    0  \n",
       "1       0    0    0    0    0    0    0  \n",
       "2       0    0    0    0    0    0    0  \n",
       "3       0    0    0    0    0    0    0  \n",
       "4       0    0    0    0    0    0    0  \n",
       "...   ...  ...  ...  ...  ...  ...  ...  \n",
       "3720    0    0    0    0    0    0    0  \n",
       "3721    0    0    0    0    0    0    0  \n",
       "3722    0    0    0    0    0    0    0  \n",
       "3723    0    0    0    0    0    0    0  \n",
       "3724    0    0    0    0    0    0    0  \n",
       "\n",
       "[3725 rows x 162 columns]"
      ]
     },
     "metadata": {},
     "output_type": "display_data"
    },
    {
     "name": "stdout",
     "output_type": "stream",
     "text": [
      "0      62\n",
      "1      25\n",
      "2      13\n",
      "3       9\n",
      "4      10\n",
      "       ..\n",
      "157     5\n",
      "158     6\n",
      "159     5\n",
      "160     7\n",
      "161    10\n",
      "Length: 162, dtype: int64\n"
     ]
    }
   ],
   "source": [
    "a = pd.DataFrame(scatter_det_E_f)\n",
    "display(a)\n",
    "print(a.max())"
   ]
  },
  {
   "cell_type": "markdown",
   "id": "2ff9efe3",
   "metadata": {},
   "source": [
    "# Save scatter_det_E_f as csv file"
   ]
  },
  {
   "cell_type": "code",
   "execution_count": 91,
   "id": "af7586da",
   "metadata": {},
   "outputs": [
    {
     "name": "stdout",
     "output_type": "stream",
     "text": [
      "Processing time: 0.4323868751525879 s\n"
     ]
    }
   ],
   "source": [
    "start_time = time.time()\n",
    "\n",
    "df_E_f = pd.DataFrame(scatter_det_E_f)\n",
    "df_E_f.to_csv('C:/Users/Renniel/CTP401_CCST_kn_300_E_f.txt', index = False)\n",
    "# display(df_E_f)\n",
    "\n",
    "end_time = time.time()\n",
    "print('Processing time: {}'.format(end_time - start_time), 's')"
   ]
  },
  {
   "cell_type": "markdown",
   "id": "c0ffcd06",
   "metadata": {},
   "source": [
    "# Save scatter_det_E_f_c1 as csv file"
   ]
  },
  {
   "cell_type": "code",
   "execution_count": 92,
   "id": "f368b102",
   "metadata": {},
   "outputs": [
    {
     "name": "stdout",
     "output_type": "stream",
     "text": [
      "Processing time: 0.44429802894592285 s\n"
     ]
    }
   ],
   "source": [
    "start_time = time.time()\n",
    "\n",
    "df_E_f_c1 = pd.DataFrame(scatter_det_E_f_c1)\n",
    "df_E_f_c1.to_csv('C:/Users/Renniel/CTP401_CCST_kn_300_E_f_c1.txt', index = False)\n",
    "# display(df_E_f_c1)\n",
    "\n",
    "end_time = time.time()\n",
    "print('Processing time: {}'.format(end_time - start_time), 's')"
   ]
  },
  {
   "cell_type": "markdown",
   "id": "7e7a70e0",
   "metadata": {},
   "source": [
    "# Save scatter_det_E_f_c2 as csv file"
   ]
  },
  {
   "cell_type": "code",
   "execution_count": 93,
   "id": "8cb877d2",
   "metadata": {},
   "outputs": [
    {
     "name": "stdout",
     "output_type": "stream",
     "text": [
      "Processing time: 0.4327244758605957 s\n"
     ]
    }
   ],
   "source": [
    "start_time = time.time()\n",
    "\n",
    "df_E_f_c2 = pd.DataFrame(scatter_det_E_f_c2)\n",
    "df_E_f_c2.to_csv('C:/Users/Renniel/CTP401_CCST_kn_300_E_f_c2.txt', index = False)\n",
    "# display(df_E_f_c2)\n",
    "\n",
    "end_time = time.time()\n",
    "print('Processing time: {}'.format(end_time - start_time), 's')"
   ]
  },
  {
   "cell_type": "code",
   "execution_count": 225,
   "id": "5e56a1a0",
   "metadata": {},
   "outputs": [
    {
     "data": {
      "text/html": [
       "<div>\n",
       "<style scoped>\n",
       "    .dataframe tbody tr th:only-of-type {\n",
       "        vertical-align: middle;\n",
       "    }\n",
       "\n",
       "    .dataframe tbody tr th {\n",
       "        vertical-align: top;\n",
       "    }\n",
       "\n",
       "    .dataframe thead th {\n",
       "        text-align: right;\n",
       "    }\n",
       "</style>\n",
       "<table border=\"1\" class=\"dataframe\">\n",
       "  <thead>\n",
       "    <tr style=\"text-align: right;\">\n",
       "      <th></th>\n",
       "      <th>0</th>\n",
       "      <th>1</th>\n",
       "      <th>2</th>\n",
       "      <th>3</th>\n",
       "      <th>4</th>\n",
       "      <th>5</th>\n",
       "      <th>6</th>\n",
       "      <th>7</th>\n",
       "      <th>8</th>\n",
       "      <th>9</th>\n",
       "      <th>...</th>\n",
       "      <th>3825</th>\n",
       "      <th>3826</th>\n",
       "      <th>3827</th>\n",
       "      <th>3828</th>\n",
       "      <th>3829</th>\n",
       "      <th>3830</th>\n",
       "      <th>3831</th>\n",
       "      <th>3832</th>\n",
       "      <th>3833</th>\n",
       "      <th>3834</th>\n",
       "    </tr>\n",
       "  </thead>\n",
       "  <tbody>\n",
       "    <tr>\n",
       "      <th>0</th>\n",
       "      <td>0</td>\n",
       "      <td>0</td>\n",
       "      <td>0</td>\n",
       "      <td>0</td>\n",
       "      <td>0</td>\n",
       "      <td>0</td>\n",
       "      <td>0</td>\n",
       "      <td>0</td>\n",
       "      <td>0</td>\n",
       "      <td>0</td>\n",
       "      <td>...</td>\n",
       "      <td>0</td>\n",
       "      <td>0</td>\n",
       "      <td>0</td>\n",
       "      <td>0</td>\n",
       "      <td>0</td>\n",
       "      <td>0</td>\n",
       "      <td>0</td>\n",
       "      <td>0</td>\n",
       "      <td>0</td>\n",
       "      <td>0</td>\n",
       "    </tr>\n",
       "    <tr>\n",
       "      <th>1</th>\n",
       "      <td>0</td>\n",
       "      <td>0</td>\n",
       "      <td>0</td>\n",
       "      <td>0</td>\n",
       "      <td>0</td>\n",
       "      <td>0</td>\n",
       "      <td>0</td>\n",
       "      <td>0</td>\n",
       "      <td>0</td>\n",
       "      <td>0</td>\n",
       "      <td>...</td>\n",
       "      <td>0</td>\n",
       "      <td>0</td>\n",
       "      <td>0</td>\n",
       "      <td>0</td>\n",
       "      <td>0</td>\n",
       "      <td>0</td>\n",
       "      <td>0</td>\n",
       "      <td>0</td>\n",
       "      <td>0</td>\n",
       "      <td>0</td>\n",
       "    </tr>\n",
       "    <tr>\n",
       "      <th>2</th>\n",
       "      <td>0</td>\n",
       "      <td>0</td>\n",
       "      <td>0</td>\n",
       "      <td>0</td>\n",
       "      <td>0</td>\n",
       "      <td>0</td>\n",
       "      <td>0</td>\n",
       "      <td>0</td>\n",
       "      <td>0</td>\n",
       "      <td>0</td>\n",
       "      <td>...</td>\n",
       "      <td>0</td>\n",
       "      <td>0</td>\n",
       "      <td>0</td>\n",
       "      <td>0</td>\n",
       "      <td>0</td>\n",
       "      <td>0</td>\n",
       "      <td>0</td>\n",
       "      <td>0</td>\n",
       "      <td>0</td>\n",
       "      <td>0</td>\n",
       "    </tr>\n",
       "    <tr>\n",
       "      <th>3</th>\n",
       "      <td>0</td>\n",
       "      <td>0</td>\n",
       "      <td>0</td>\n",
       "      <td>0</td>\n",
       "      <td>0</td>\n",
       "      <td>0</td>\n",
       "      <td>0</td>\n",
       "      <td>0</td>\n",
       "      <td>0</td>\n",
       "      <td>0</td>\n",
       "      <td>...</td>\n",
       "      <td>0</td>\n",
       "      <td>0</td>\n",
       "      <td>0</td>\n",
       "      <td>0</td>\n",
       "      <td>0</td>\n",
       "      <td>0</td>\n",
       "      <td>0</td>\n",
       "      <td>0</td>\n",
       "      <td>0</td>\n",
       "      <td>0</td>\n",
       "    </tr>\n",
       "    <tr>\n",
       "      <th>4</th>\n",
       "      <td>0</td>\n",
       "      <td>0</td>\n",
       "      <td>0</td>\n",
       "      <td>0</td>\n",
       "      <td>0</td>\n",
       "      <td>0</td>\n",
       "      <td>0</td>\n",
       "      <td>0</td>\n",
       "      <td>0</td>\n",
       "      <td>0</td>\n",
       "      <td>...</td>\n",
       "      <td>0</td>\n",
       "      <td>0</td>\n",
       "      <td>0</td>\n",
       "      <td>0</td>\n",
       "      <td>0</td>\n",
       "      <td>0</td>\n",
       "      <td>0</td>\n",
       "      <td>0</td>\n",
       "      <td>0</td>\n",
       "      <td>0</td>\n",
       "    </tr>\n",
       "    <tr>\n",
       "      <th>...</th>\n",
       "      <td>...</td>\n",
       "      <td>...</td>\n",
       "      <td>...</td>\n",
       "      <td>...</td>\n",
       "      <td>...</td>\n",
       "      <td>...</td>\n",
       "      <td>...</td>\n",
       "      <td>...</td>\n",
       "      <td>...</td>\n",
       "      <td>...</td>\n",
       "      <td>...</td>\n",
       "      <td>...</td>\n",
       "      <td>...</td>\n",
       "      <td>...</td>\n",
       "      <td>...</td>\n",
       "      <td>...</td>\n",
       "      <td>...</td>\n",
       "      <td>...</td>\n",
       "      <td>...</td>\n",
       "      <td>...</td>\n",
       "      <td>...</td>\n",
       "    </tr>\n",
       "    <tr>\n",
       "      <th>3720</th>\n",
       "      <td>0</td>\n",
       "      <td>7</td>\n",
       "      <td>3</td>\n",
       "      <td>7</td>\n",
       "      <td>1</td>\n",
       "      <td>5</td>\n",
       "      <td>0</td>\n",
       "      <td>0</td>\n",
       "      <td>1</td>\n",
       "      <td>3</td>\n",
       "      <td>...</td>\n",
       "      <td>0</td>\n",
       "      <td>0</td>\n",
       "      <td>0</td>\n",
       "      <td>0</td>\n",
       "      <td>0</td>\n",
       "      <td>0</td>\n",
       "      <td>0</td>\n",
       "      <td>0</td>\n",
       "      <td>0</td>\n",
       "      <td>0</td>\n",
       "    </tr>\n",
       "    <tr>\n",
       "      <th>3721</th>\n",
       "      <td>0</td>\n",
       "      <td>6</td>\n",
       "      <td>4</td>\n",
       "      <td>2</td>\n",
       "      <td>6</td>\n",
       "      <td>5</td>\n",
       "      <td>1</td>\n",
       "      <td>4</td>\n",
       "      <td>2</td>\n",
       "      <td>0</td>\n",
       "      <td>...</td>\n",
       "      <td>0</td>\n",
       "      <td>0</td>\n",
       "      <td>0</td>\n",
       "      <td>0</td>\n",
       "      <td>0</td>\n",
       "      <td>0</td>\n",
       "      <td>0</td>\n",
       "      <td>0</td>\n",
       "      <td>0</td>\n",
       "      <td>0</td>\n",
       "    </tr>\n",
       "    <tr>\n",
       "      <th>3722</th>\n",
       "      <td>0</td>\n",
       "      <td>12</td>\n",
       "      <td>6</td>\n",
       "      <td>4</td>\n",
       "      <td>5</td>\n",
       "      <td>5</td>\n",
       "      <td>1</td>\n",
       "      <td>0</td>\n",
       "      <td>2</td>\n",
       "      <td>0</td>\n",
       "      <td>...</td>\n",
       "      <td>0</td>\n",
       "      <td>0</td>\n",
       "      <td>0</td>\n",
       "      <td>0</td>\n",
       "      <td>0</td>\n",
       "      <td>0</td>\n",
       "      <td>0</td>\n",
       "      <td>0</td>\n",
       "      <td>0</td>\n",
       "      <td>0</td>\n",
       "    </tr>\n",
       "    <tr>\n",
       "      <th>3723</th>\n",
       "      <td>0</td>\n",
       "      <td>16</td>\n",
       "      <td>7</td>\n",
       "      <td>5</td>\n",
       "      <td>5</td>\n",
       "      <td>9</td>\n",
       "      <td>6</td>\n",
       "      <td>6</td>\n",
       "      <td>11</td>\n",
       "      <td>5</td>\n",
       "      <td>...</td>\n",
       "      <td>0</td>\n",
       "      <td>0</td>\n",
       "      <td>0</td>\n",
       "      <td>0</td>\n",
       "      <td>0</td>\n",
       "      <td>0</td>\n",
       "      <td>0</td>\n",
       "      <td>0</td>\n",
       "      <td>0</td>\n",
       "      <td>0</td>\n",
       "    </tr>\n",
       "    <tr>\n",
       "      <th>3724</th>\n",
       "      <td>0</td>\n",
       "      <td>25</td>\n",
       "      <td>15</td>\n",
       "      <td>13</td>\n",
       "      <td>14</td>\n",
       "      <td>6</td>\n",
       "      <td>17</td>\n",
       "      <td>14</td>\n",
       "      <td>10</td>\n",
       "      <td>6</td>\n",
       "      <td>...</td>\n",
       "      <td>0</td>\n",
       "      <td>0</td>\n",
       "      <td>0</td>\n",
       "      <td>0</td>\n",
       "      <td>0</td>\n",
       "      <td>0</td>\n",
       "      <td>0</td>\n",
       "      <td>0</td>\n",
       "      <td>0</td>\n",
       "      <td>0</td>\n",
       "    </tr>\n",
       "  </tbody>\n",
       "</table>\n",
       "<p>3725 rows × 3835 columns</p>\n",
       "</div>"
      ],
      "text/plain": [
       "      0     1     2     3     4     5     6     7     8     9     ...  3825  \\\n",
       "0        0     0     0     0     0     0     0     0     0     0  ...     0   \n",
       "1        0     0     0     0     0     0     0     0     0     0  ...     0   \n",
       "2        0     0     0     0     0     0     0     0     0     0  ...     0   \n",
       "3        0     0     0     0     0     0     0     0     0     0  ...     0   \n",
       "4        0     0     0     0     0     0     0     0     0     0  ...     0   \n",
       "...    ...   ...   ...   ...   ...   ...   ...   ...   ...   ...  ...   ...   \n",
       "3720     0     7     3     7     1     5     0     0     1     3  ...     0   \n",
       "3721     0     6     4     2     6     5     1     4     2     0  ...     0   \n",
       "3722     0    12     6     4     5     5     1     0     2     0  ...     0   \n",
       "3723     0    16     7     5     5     9     6     6    11     5  ...     0   \n",
       "3724     0    25    15    13    14     6    17    14    10     6  ...     0   \n",
       "\n",
       "      3826  3827  3828  3829  3830  3831  3832  3833  3834  \n",
       "0        0     0     0     0     0     0     0     0     0  \n",
       "1        0     0     0     0     0     0     0     0     0  \n",
       "2        0     0     0     0     0     0     0     0     0  \n",
       "3        0     0     0     0     0     0     0     0     0  \n",
       "4        0     0     0     0     0     0     0     0     0  \n",
       "...    ...   ...   ...   ...   ...   ...   ...   ...   ...  \n",
       "3720     0     0     0     0     0     0     0     0     0  \n",
       "3721     0     0     0     0     0     0     0     0     0  \n",
       "3722     0     0     0     0     0     0     0     0     0  \n",
       "3723     0     0     0     0     0     0     0     0     0  \n",
       "3724     0     0     0     0     0     0     0     0     0  \n",
       "\n",
       "[3725 rows x 3835 columns]"
      ]
     },
     "metadata": {},
     "output_type": "display_data"
    }
   ],
   "source": [
    "display(df_E_f_c2)"
   ]
  }
 ],
 "metadata": {
  "kernelspec": {
   "display_name": "Python 3",
   "language": "python",
   "name": "python3"
  },
  "language_info": {
   "codemirror_mode": {
    "name": "ipython",
    "version": 3
   },
   "file_extension": ".py",
   "mimetype": "text/x-python",
   "name": "python",
   "nbconvert_exporter": "python",
   "pygments_lexer": "ipython3",
   "version": "3.8.8"
  }
 },
 "nbformat": 4,
 "nbformat_minor": 5
}
